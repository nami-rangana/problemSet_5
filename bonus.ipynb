{
 "cells": [
  {
   "cell_type": "code",
   "execution_count": 1,
   "id": "97f523fb-9bf9-4afb-9033-fbd2e3d67eb1",
   "metadata": {},
   "outputs": [],
   "source": [
    "#!/usr/bin/env python\n",
    "from sqlalchemy import create_engine\n",
    "from sqlalchemy import MetaData\n",
    "from sqlalchemy import Table, Column, ForeignKey\n",
    "from sqlalchemy import Integer, String\n",
    "from sqlalchemy import sql, select, join, desc\n",
    "from sqlalchemy.sql import func\n",
    "\n",
    "import pandas as pd\n",
    "\n",
    "import matplotlib.pyplot as plt"
   ]
  },
  {
   "cell_type": "code",
   "execution_count": 2,
   "id": "51143ea5-a9e2-4600-b3a7-eb0c5ef7bf45",
   "metadata": {},
   "outputs": [],
   "source": [
    "# Create a Engine object which is our handle into the database.\n",
    "engine = create_engine('sqlite:///world.sqlite')\n",
    "\n",
    "# Connect to the database\n",
    "conn = engine.connect()\n",
    "\n",
    "# Read the metadata from the existing database.\n",
    "#  Since the database already exists and has tables defined, we can create Python objects based on these automatically.\n",
    "DBInfo=MetaData(engine)"
   ]
  },
  {
   "cell_type": "code",
   "execution_count": 3,
   "id": "3342da9b-e81c-47f0-b4a1-7f7b2f78bb60",
   "metadata": {},
   "outputs": [],
   "source": [
    "# Auto-create the objects based on the metadata read into the DBInfo.\n",
    "country=Table('country', DBInfo, autoload=True)\n",
    "city=Table('city', DBInfo, autoload=True)\n",
    "\n",
    "# Mirroring this command: SELECT country.Code, country.Population, SUM(city.Population), country.LifeExpectancy FROM country JOIN city \n",
    "# ON Code=CountryCode GROUP BY Code;\n",
    "query=select([country.c.Code, country.c.Population, func.sum(city.c.Population).label(\"sum_city_population\"), country.c.LifeExpectancy])\n",
    "query=query.select_from(join(query.froms[0], city, country.c.Code==city.c.CountryCode)).group_by(country.c.Code)"
   ]
  },
  {
   "cell_type": "code",
   "execution_count": 4,
   "id": "263d6da4-2535-42d6-839b-27d2d3153008",
   "metadata": {},
   "outputs": [
    {
     "data": {
      "text/html": [
       "<div>\n",
       "<style scoped>\n",
       "    .dataframe tbody tr th:only-of-type {\n",
       "        vertical-align: middle;\n",
       "    }\n",
       "\n",
       "    .dataframe tbody tr th {\n",
       "        vertical-align: top;\n",
       "    }\n",
       "\n",
       "    .dataframe thead th {\n",
       "        text-align: right;\n",
       "    }\n",
       "</style>\n",
       "<table border=\"1\" class=\"dataframe\">\n",
       "  <thead>\n",
       "    <tr style=\"text-align: right;\">\n",
       "      <th></th>\n",
       "      <th>Code</th>\n",
       "      <th>Population</th>\n",
       "      <th>sum_city_population</th>\n",
       "      <th>LifeExpectancy</th>\n",
       "    </tr>\n",
       "  </thead>\n",
       "  <tbody>\n",
       "    <tr>\n",
       "      <th>0</th>\n",
       "      <td>ABW</td>\n",
       "      <td>103000</td>\n",
       "      <td>29034</td>\n",
       "      <td>78.4</td>\n",
       "    </tr>\n",
       "    <tr>\n",
       "      <th>1</th>\n",
       "      <td>AFG</td>\n",
       "      <td>22720000</td>\n",
       "      <td>2332100</td>\n",
       "      <td>45.9</td>\n",
       "    </tr>\n",
       "    <tr>\n",
       "      <th>2</th>\n",
       "      <td>AGO</td>\n",
       "      <td>12878000</td>\n",
       "      <td>2561600</td>\n",
       "      <td>38.3</td>\n",
       "    </tr>\n",
       "    <tr>\n",
       "      <th>3</th>\n",
       "      <td>AIA</td>\n",
       "      <td>8000</td>\n",
       "      <td>1556</td>\n",
       "      <td>76.1</td>\n",
       "    </tr>\n",
       "    <tr>\n",
       "      <th>4</th>\n",
       "      <td>ALB</td>\n",
       "      <td>3401200</td>\n",
       "      <td>270000</td>\n",
       "      <td>71.6</td>\n",
       "    </tr>\n",
       "  </tbody>\n",
       "</table>\n",
       "</div>"
      ],
      "text/plain": [
       "  Code  Population  sum_city_population  LifeExpectancy\n",
       "0  ABW      103000                29034            78.4\n",
       "1  AFG    22720000              2332100            45.9\n",
       "2  AGO    12878000              2561600            38.3\n",
       "3  AIA        8000                 1556            76.1\n",
       "4  ALB     3401200               270000            71.6"
      ]
     },
     "execution_count": 4,
     "metadata": {},
     "output_type": "execute_result"
    }
   ],
   "source": [
    "# Reading SQL query results into a Pandas data frame\n",
    "df=pd.read_sql(query, conn)\n",
    "df.head()"
   ]
  },
  {
   "cell_type": "code",
   "execution_count": 5,
   "id": "5d66de54-7658-4b10-a95b-cb9cd4912bf8",
   "metadata": {},
   "outputs": [
    {
     "data": {
      "text/html": [
       "<div>\n",
       "<style scoped>\n",
       "    .dataframe tbody tr th:only-of-type {\n",
       "        vertical-align: middle;\n",
       "    }\n",
       "\n",
       "    .dataframe tbody tr th {\n",
       "        vertical-align: top;\n",
       "    }\n",
       "\n",
       "    .dataframe thead th {\n",
       "        text-align: right;\n",
       "    }\n",
       "</style>\n",
       "<table border=\"1\" class=\"dataframe\">\n",
       "  <thead>\n",
       "    <tr style=\"text-align: right;\">\n",
       "      <th></th>\n",
       "      <th>Code</th>\n",
       "      <th>Population</th>\n",
       "      <th>sum_city_population</th>\n",
       "      <th>LifeExpectancy</th>\n",
       "      <th>ratio</th>\n",
       "    </tr>\n",
       "  </thead>\n",
       "  <tbody>\n",
       "    <tr>\n",
       "      <th>0</th>\n",
       "      <td>ABW</td>\n",
       "      <td>103000</td>\n",
       "      <td>29034</td>\n",
       "      <td>78.4</td>\n",
       "      <td>0.281883</td>\n",
       "    </tr>\n",
       "    <tr>\n",
       "      <th>1</th>\n",
       "      <td>AFG</td>\n",
       "      <td>22720000</td>\n",
       "      <td>2332100</td>\n",
       "      <td>45.9</td>\n",
       "      <td>0.102645</td>\n",
       "    </tr>\n",
       "    <tr>\n",
       "      <th>2</th>\n",
       "      <td>AGO</td>\n",
       "      <td>12878000</td>\n",
       "      <td>2561600</td>\n",
       "      <td>38.3</td>\n",
       "      <td>0.198913</td>\n",
       "    </tr>\n",
       "    <tr>\n",
       "      <th>3</th>\n",
       "      <td>AIA</td>\n",
       "      <td>8000</td>\n",
       "      <td>1556</td>\n",
       "      <td>76.1</td>\n",
       "      <td>0.194500</td>\n",
       "    </tr>\n",
       "    <tr>\n",
       "      <th>4</th>\n",
       "      <td>ALB</td>\n",
       "      <td>3401200</td>\n",
       "      <td>270000</td>\n",
       "      <td>71.6</td>\n",
       "      <td>0.079384</td>\n",
       "    </tr>\n",
       "  </tbody>\n",
       "</table>\n",
       "</div>"
      ],
      "text/plain": [
       "  Code  Population  sum_city_population  LifeExpectancy     ratio\n",
       "0  ABW      103000                29034            78.4  0.281883\n",
       "1  AFG    22720000              2332100            45.9  0.102645\n",
       "2  AGO    12878000              2561600            38.3  0.198913\n",
       "3  AIA        8000                 1556            76.1  0.194500\n",
       "4  ALB     3401200               270000            71.6  0.079384"
      ]
     },
     "execution_count": 5,
     "metadata": {},
     "output_type": "execute_result"
    }
   ],
   "source": [
    "# Get the ratio by dividing 'sum_city_population' column by 'Population' column,\n",
    "# and assign it to a new column named 'ratio'\n",
    "df[\"ratio\"] = df[\"sum_city_population\"]/df[\"Population\"]\n",
    "df.head()"
   ]
  },
  {
   "cell_type": "code",
   "execution_count": 6,
   "id": "a937a772-69dc-4d72-a345-6ac9c4e14659",
   "metadata": {},
   "outputs": [
    {
     "data": {
      "image/png": "[encoded data removed]",
      "text/plain": [
       "<Figure size 432x288 with 1 Axes>"
      ]
     },
     "metadata": {
      "needs_background": "light"
     },
     "output_type": "display_data"
    }
   ],
   "source": [
    "# Making the plot\n",
    "df.plot(x='ratio', y='LifeExpectancy', kind='scatter')\n",
    "plt.xlabel(\"approximation of the % urban population\")\n",
    "plt.savefig('bonus.jpeg', dpi=300)\n",
    "plt.show()"
   ]
  },
  {
   "cell_type": "code",
   "execution_count": null,
   "id": "aeadd0f1-52d5-4edc-9af7-f9b1e865229a",
   "metadata": {},
   "outputs": [],
   "source": []
  }
 ],
 "metadata": {
  "kernelspec": {
   "display_name": "UFRC Python-3.10",
   "language": "python",
   "name": "python3-3.10-ufrc"
  },
  "language_info": {
   "codemirror_mode": {
    "name": "ipython",
    "version": 3
   },
   "file_extension": ".py",
   "mimetype": "text/x-python",
   "name": "python",
   "nbconvert_exporter": "python",
   "pygments_lexer": "ipython3",
   "version": "3.10.5"
  }
 },
 "nbformat": 4,
 "nbformat_minor": 5
}
