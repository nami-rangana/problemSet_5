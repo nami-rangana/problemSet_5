{
 "cells": [
  {
   "cell_type": "code",
   "execution_count": 1,
   "id": "6c860c76-a412-44cb-aaa6-ce379a08c320",
   "metadata": {},
   "outputs": [],
   "source": [
    "#!/usr/bin/env python\n",
    "from sqlalchemy import create_engine\n",
    "from sqlalchemy import MetaData\n",
    "from sqlalchemy import Table, Column\n",
    "from sqlalchemy import Integer, String\n",
    "from sqlalchemy import sql, select, join, desc\n",
    "\n",
    "import pandas as pd\n",
    "\n",
    "import matplotlib.pyplot as plt"
   ]
  },
  {
   "cell_type": "code",
   "execution_count": 2,
   "id": "699575cc-5cd4-4840-a07c-2e08d30365c4",
   "metadata": {},
   "outputs": [],
   "source": [
    "# Create a Engine object which is our handle into the database.\n",
    "engine = create_engine('sqlite:///world.sqlite')\n",
    "\n",
    "# Connect to the database\n",
    "conn = engine.connect()\n",
    "\n",
    "# Read the metadata from the existing database.\n",
    "#  Since the database already exists and has tables defined, we can create Python objects based on these automatically.\n",
    "DBInfo=MetaData(engine)"
   ]
  },
  {
   "cell_type": "code",
   "execution_count": 3,
   "id": "3eb4f8ac-7af9-4302-aa5a-791934a63b57",
   "metadata": {},
   "outputs": [],
   "source": [
    "# Auto-create the country object based on the metadata read into the DBInfo.\n",
    "country=Table('country', DBInfo, autoload=True)\n",
    "\n",
    "# Mirroring this command: SELECT Population, LifeExpectancy FROM country;\n",
    "query=select([country.c.Population, country.c.LifeExpectancy])"
   ]
  },
  {
   "cell_type": "code",
   "execution_count": 4,
   "id": "eefb6275-63b5-4690-9532-82d481e08c29",
   "metadata": {},
   "outputs": [],
   "source": [
    "# Reading SQL query results into a Pandas data frame\n",
    "df=pd.read_sql(query, conn)\n",
    "#df.tail()"
   ]
  },
  {
   "cell_type": "code",
   "execution_count": 5,
   "id": "d1103e6c-d4b0-4ef2-ae5a-f7930d471a1c",
   "metadata": {},
   "outputs": [
    {
     "data": {
      "image/png": "[encoded data removed]",
      "text/plain": [
       "<Figure size 432x288 with 1 Axes>"
      ]
     },
     "metadata": {
      "needs_background": "light"
     },
     "output_type": "display_data"
    }
   ],
   "source": [
    "# Making the plot\n",
    "df.plot(x='Population', y='LifeExpectancy', kind='scatter')\n",
    "plt.savefig('q4.jpeg', dpi=300)\n",
    "plt.show()"
   ]
  },
  {
   "cell_type": "code",
   "execution_count": null,
   "id": "76f33a5d-49a4-4cea-abcd-5f84d05ed800",
   "metadata": {},
   "outputs": [],
   "source": []
  }
 ],
 "metadata": {
  "kernelspec": {
   "display_name": "UFRC Python-3.10",
   "language": "python",
   "name": "python3-3.10-ufrc"
  },
  "language_info": {
   "codemirror_mode": {
    "name": "ipython",
    "version": 3
   },
   "file_extension": ".py",
   "mimetype": "text/x-python",
   "name": "python",
   "nbconvert_exporter": "python",
   "pygments_lexer": "ipython3",
   "version": "3.10.5"
  }
 },
 "nbformat": 4,
 "nbformat_minor": 5
}
